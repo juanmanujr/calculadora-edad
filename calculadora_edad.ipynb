{
 "cells": [
  {
   "cell_type": "code",
   "execution_count": 1,
   "id": "7afd846f",
   "metadata": {},
   "outputs": [],
   "source": [
    "import tkinter as tk\n",
    "\n",
    "def calcular_edad():\n",
    "    try:\n",
    "        # Obtener el año de nacimiento desde la caja de texto\n",
    "        anio_nacimiento = int(entry_anio.get())\n",
    "        anio_actual = 2025\n",
    "        edad = anio_actual - anio_nacimiento\n",
    "\n",
    "        # Actualizar el texto de la etiqueta con el resultado\n",
    "        label_resultado.config(text=f\"Tienes aproximadamente {edad} años.\")\n",
    "    except ValueError:\n",
    "        label_resultado.config(text=\"Por favor, ingresa un número válido.\")\n",
    "\n",
    "# Crear la ventana principal\n",
    "ventana = tk.Tk()\n",
    "ventana.title(\"Calculadora de Edad\")\n",
    "\n",
    "# Etiqueta para el texto \"Año de nacimiento:\"\n",
    "label_anio = tk.Label(ventana, text=\"Año de nacimiento:\")\n",
    "label_anio.grid(row=0, column=0, padx=5, pady=5)\n",
    "\n",
    "# Caja de texto para ingresar el año\n",
    "entry_anio = tk.Entry(ventana)\n",
    "entry_anio.grid(row=0, column=1, padx=5, pady=5)\n",
    "\n",
    "# Botón para calcular la edad\n",
    "boton_calcular = tk.Button(ventana, text=\"Calcular Edad\", command=calcular_edad)\n",
    "boton_calcular.grid(row=1, column=0, columnspan=2, pady=10)\n",
    "\n",
    "# Etiqueta vacía para mostrar el resultado\n",
    "label_resultado = tk.Label(ventana, text=\"\")\n",
    "label_resultado.grid(row=2, column=0, columnspan=2, pady=5)\n",
    "\n",
    "# Iniciar la aplicación\n",
    "ventana.mainloop()\n"
   ]
  }
 ],
 "metadata": {
  "kernelspec": {
   "display_name": "base",
   "language": "python",
   "name": "python3"
  },
  "language_info": {
   "codemirror_mode": {
    "name": "ipython",
    "version": 3
   },
   "file_extension": ".py",
   "mimetype": "text/x-python",
   "name": "python",
   "nbconvert_exporter": "python",
   "pygments_lexer": "ipython3",
   "version": "3.9.13"
  }
 },
 "nbformat": 4,
 "nbformat_minor": 5
}
